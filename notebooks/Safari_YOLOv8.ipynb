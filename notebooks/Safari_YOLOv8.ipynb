{
 "cells": [
  {
   "cell_type": "markdown",
   "id": "f3bac63b-d775-49f4-88d7-087439435f77",
   "metadata": {},
   "source": [
    "# SAFARI app\n",
    "We are going to use this Notebook to train our YOLOv8 model using the dataset already provided with animal images and anotations. To speed up the trainig, we will use the GPU card we had configured. Once finished, we will need to convert the model into onxx format to be able to port it to the Container image."
   ]
  },
  {
   "cell_type": "markdown",
   "id": "0d1f661a-512f-448a-a58b-39fdbd60cc3e",
   "metadata": {},
   "source": [
    "## Setup\n",
    "Clone Ultralytics' GitHub [repository](https://github.com/ultralytics/ultralytics), install ultralytics and imoprt YOLO."
   ]
  },
  {
   "cell_type": "code",
   "execution_count": null,
   "id": "bd6bf14a-72f2-499a-8fe3-7a7d9c5f5fda",
   "metadata": {
    "tags": []
   },
   "outputs": [],
   "source": [
    "!pip install --upgrade pip\n",
    "!pip install pickleshare\n",
    "!pip install seaborn\n",
    "!pip install opencv-python-headless\n",
    "!pip install py-cpuinfo\n",
    "\n",
    "!git clone https://github.com/ultralytics/ultralytics\n",
    "%cd ultralytics\n",
    "\n",
    "from ultralytics import YOLO\n",
    "from PIL import Image"
   ]
  },
  {
   "cell_type": "markdown",
   "id": "12a79f41-1f5a-4e73-aba3-fb5761a3ea5f",
   "metadata": {},
   "source": [
    "## Data preparation\n",
    "Data preparation is usually a big task. You might have to clean, label and format data into training and test data sets. Let's see the content of our dataset: "
   ]
  },
  {
   "cell_type": "code",
   "execution_count": null,
   "id": "c2b8dd4e-dc11-4a0f-bf41-ba7f5f182c13",
   "metadata": {
    "tags": []
   },
   "outputs": [],
   "source": [
    "!ls /opt/app-root/src/safari-demo/dataset/*"
   ]
  },
  {
   "cell_type": "markdown",
   "id": "ea0d16f8-031f-40f6-ace0-1eb90ead64ff",
   "metadata": {},
   "source": [
    "## Model training\n",
    "Train the YOLOv8 model by specifying dataset, batch-size, image size and pretrained --weights yolov8m.pt. Pretrained weights are auto-downloaded from the latest [YOLOv8 release](https://github.com/ultralytics/ultralytics)."
   ]
  },
  {
   "cell_type": "code",
   "execution_count": null,
   "id": "4e15c9bb-a711-442e-81d6-817e102c37fa",
   "metadata": {
    "tags": []
   },
   "outputs": [],
   "source": [
    "model = YOLO(\"yolov8m.pt\")\n",
    "model.train(data='/opt/app-root/src/safari-demo/dataset/data.yaml', epochs=100, imgsz=640, batch=16)"
   ]
  },
  {
   "cell_type": "markdown",
   "id": "d00b9a75-d8f6-49af-b2a9-9b05db77a815",
   "metadata": {},
   "source": [
    "## Validation\n",
    "Now that we have our model, we can made predictions with new images:"
   ]
  },
  {
   "cell_type": "code",
   "execution_count": null,
   "id": "8c1643a9-b7b3-43ea-8c0a-ad125607be45",
   "metadata": {
    "tags": []
   },
   "outputs": [],
   "source": [
    "model = YOLO('/opt/app-root/src/safari-demo/notebooks/ultralytics/runs/detect/train/weights/best.pt')\n",
    "results = model('/opt/app-root/src/safari-demo/dataset/validation/sample.png', save=True)\n",
    "Image.open('/opt/app-root/src/safari-demo/notebooks/ultralytics/runs/detect/predict/sample.png')"
   ]
  },
  {
   "cell_type": "markdown",
   "id": "39aa2a22-fab6-4260-9de2-3e161718bdb0",
   "metadata": {},
   "source": [
    "## Export \n",
    "Finally, we're going to export our file in ONNX format so we can use it in our application. Make sure to change the path to correspond with where your weights are saved."
   ]
  },
  {
   "cell_type": "code",
   "execution_count": null,
   "id": "44542db0-00eb-4160-b36c-fba6ea4db10d",
   "metadata": {
    "tags": []
   },
   "outputs": [],
   "source": [
    "model.export(format='onnx')"
   ]
  },
  {
   "cell_type": "markdown",
   "id": "12a79f41-1f5a-4e73-aba3-fb5761a3ea9g",
   "metadata": {},
   "source": [
    "## Next\n",
    "Now that we have exported our model, download the file. The next step will be to deploy our Safari application using MicroShift. "
   ]
  },
  {
   "cell_type": "markdown",
   "id": "2d2da7b1-94e6-4907-b388-17958abae31c",
   "metadata": {},
   "source": [
    "## Extra Fun: Video Recognition\n",
    "If you want to do one more prediction, let's make some with a video."
   ]
  },
  {
   "cell_type": "code",
   "execution_count": null,
   "id": "9fef1b1b-8920-449f-8606-f8b4ba58e343",
   "metadata": {
    "tags": []
   },
   "outputs": [],
   "source": [
    "results = model('/opt/app-root/src/safari-demo/dataset/validation/sample.mp4', save=True, imgsz=640)"
   ]
  }
 ],
 "metadata": {
  "kernelspec": {
   "display_name": "Python 3.9",
   "language": "python",
   "name": "python3"
  },
  "language_info": {
   "codemirror_mode": {
    "name": "ipython",
    "version": 3
   },
   "file_extension": ".py",
   "mimetype": "text/x-python",
   "name": "python",
   "nbconvert_exporter": "python",
   "pygments_lexer": "ipython3",
   "version": "3.9.18"
  }
 },
 "nbformat": 4,
 "nbformat_minor": 5
}
