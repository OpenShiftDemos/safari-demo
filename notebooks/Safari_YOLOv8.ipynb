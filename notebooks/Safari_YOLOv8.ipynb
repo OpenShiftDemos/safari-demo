{
 "cells": [
  {
   "cell_type": "markdown",
   "id": "f3bac63b-d775-49f4-88d7-087439435f77",
   "metadata": {},
   "source": [
    "# Setup\n",
    "Clone GitHub [repository](https://github.com/ultralytics/ultralytics), install ultralytics and imoprt YOLO."
   ]
  },
  {
   "cell_type": "code",
   "execution_count": null,
   "id": "bd6bf14a-72f2-499a-8fe3-7a7d9c5f5fda",
   "metadata": {},
   "outputs": [],
   "source": [
    "!git clone https://github.com/ultralytics/ultralytics  # clone\n",
    "%cd ultralytics\n",
    "%pip install -e ultralytics\n",
    "!pip install opencv-python-headless\n",
    "!pip install py-cpuinfo"
   ]
  },
  {
   "cell_type": "code",
   "execution_count": 2,
   "id": "fa0400be-735e-40d9-baf7-7c1162b8797b",
   "metadata": {},
   "outputs": [],
   "source": [
    "from ultralytics import YOLO\n",
    "from PIL import Image"
   ]
  },
  {
   "cell_type": "markdown",
   "id": "12a79f41-1f5a-4e73-aba3-fb5761a3ea5f",
   "metadata": {},
   "source": [
    "# Data preparation\n",
    "Data preparation is usually a big task. You might have to clean, label and format data into training and test data sets. \n",
    "\n",
    "We combined a [pre-labeled dataset](https://universe.roboflow.com/other-pokemon-datasets/pokemon-pictures/) from RoboFlow and manually labeled data to create our training and testing data sets. Lucky for you, you just need to Unzip the images and annotations.\n",
    "\n",
    "**Unzip the images and annotations:**"
   ]
  },
  {
   "cell_type": "code",
   "execution_count": null,
   "id": "c2b8dd4e-dc11-4a0f-bf41-ba7f5f182c13",
   "metadata": {},
   "outputs": [],
   "source": [
    "!ls -l /opt/app-root/src/safari-demo/database/*"
   ]
  },
  {
   "cell_type": "markdown",
   "id": "ea0d16f8-031f-40f6-ace0-1eb90ead64ff",
   "metadata": {},
   "source": [
    "# Start model training\n",
    "Train a YOLOv8m model on the metal-nut data by specifying dataset, batch-size, image size and pretrained --weights yolov8m.pt. Pretrained weights are auto-downloaded from the latest [YOLOv8 release](https://github.com/ultralytics/ultralytics). Some of the output was removed so you don't have to doom scroll through epochs."
   ]
  },
  {
   "cell_type": "code",
   "execution_count": null,
   "id": "4e15c9bb-a711-442e-81d6-817e102c37fa",
   "metadata": {},
   "outputs": [],
   "source": [
    "# Load a model\n",
    "model = YOLO(\"yolov8m.pt\")  # load a pretrained model (recommended for training)\n",
    "model.train(data='/opt/app-root/src/safari-demo/database/data.yaml', epochs=600, imgsz=640, batch=16)"
   ]
  },
  {
   "cell_type": "markdown",
   "id": "d00b9a75-d8f6-49af-b2a9-9b05db77a815",
   "metadata": {},
   "source": [
    "# Validation"
   ]
  },
  {
   "cell_type": "code",
   "execution_count": null,
   "id": "312d4f0a-2b46-4790-b0d8-8000c44cd55d",
   "metadata": {},
   "outputs": [],
   "source": [
    "# Validate the model\n",
    "metrics = model.val()  # no arguments needed, dataset and settings remembered\n",
    "metrics.box.map    # map50-95\n",
    "metrics.box.map50  # map50\n",
    "metrics.box.map75  # map75\n",
    "metrics.box.maps   # a list contains map50-95 of each category"
   ]
  },
  {
   "cell_type": "markdown",
   "id": "b6931c4d-d903-4fed-aaee-87a7f1159b39",
   "metadata": {},
   "source": [
    "# Predictions\n",
    "Now that we have our model, we can made predictions with new images. We have some images for you to try out in *pokedex-demo/database/Predictions*. For this example, we'll predict *pokemon5.png*"
   ]
  },
  {
   "cell_type": "code",
   "execution_count": null,
   "id": "8c1643a9-b7b3-43ea-8c0a-ad125607be45",
   "metadata": {
    "tags": []
   },
   "outputs": [],
   "source": [
    "# Load a model\n",
    "model = YOLO('/opt/app-root/src/safari-demo/Notebooks/ultralytics/runs/detect/train/weights/best.pt')  # load a custom model\n",
    "\n",
    "# Predict with the model\n",
    "results = model('/opt/app-root/src/safari-demo/database/test/Bear/0df78ee76bafd3a9.jpg', save=True)  # predict on an image"
   ]
  },
  {
   "cell_type": "code",
   "execution_count": null,
   "id": "61483606-5e68-4dd8-9caa-9f33eb36f058",
   "metadata": {},
   "outputs": [],
   "source": [
    "# View image \n",
    "Image.open('/opt/app-root/src/pokedex-demo/Notebooks/ultralytics/runs/detect/predict/0df78ee76bafd3a9.jpg')"
   ]
  },
  {
   "cell_type": "markdown",
   "id": "39aa2a22-fab6-4260-9de2-3e161718bdb0",
   "metadata": {},
   "source": [
    "# Export \n",
    "Finally, we're going to export our file in ONNX format so we can use it in our application. Make sure to change the path to correspond with where your weights are saved."
   ]
  },
  {
   "cell_type": "code",
   "execution_count": null,
   "id": "44542db0-00eb-4160-b36c-fba6ea4db10d",
   "metadata": {},
   "outputs": [],
   "source": [
    "model.export(format='onnx')"
   ]
  },
  {
   "cell_type": "markdown",
   "id": "12a79f41-1f5a-4e73-aba3-fb5761a3ea9g",
   "metadata": {},
   "source": [
    "# Next\n",
    "Now that we have exported our model, let's head back to [the pokedex repository](https://github.com/OpenShiftDemos/pokedex-demo/blob/main/docs/deploy_microshift.md) to deploy our Pokedex application using MicroShift. \n",
    "\n"
   ]
  },
  {
   "cell_type": "markdown",
   "id": "2d2da7b1-94e6-4907-b388-17958abae31c",
   "metadata": {},
   "source": [
    "# Extra Fun: Video Recognition\n",
    "If you want to do one more prediction, let's make some with a video."
   ]
  },
  {
   "cell_type": "code",
   "execution_count": null,
   "id": "9fef1b1b-8920-449f-8606-f8b4ba58e343",
   "metadata": {},
   "outputs": [],
   "source": [
    "# Predict with the model\n",
    "results = model('/opt/app-root/src/pokedex-demo/database/test/videos/safari.mp4', save=True, imgsz=1200)  # predict on a video -  conf=0.5"
   ]
  },
  {
   "cell_type": "code",
   "execution_count": null,
   "id": "250f1683-aa66-485e-8a33-38ba208e70af",
   "metadata": {},
   "outputs": [],
   "source": []
  }
 ],
 "metadata": {
  "kernelspec": {
   "display_name": "Python 3.9",
   "language": "python",
   "name": "python3"
  },
  "language_info": {
   "codemirror_mode": {
    "name": "ipython",
    "version": 3
   },
   "file_extension": ".py",
   "mimetype": "text/x-python",
   "name": "python",
   "nbconvert_exporter": "python",
   "pygments_lexer": "ipython3",
   "version": "3.9.16"
  }
 },
 "nbformat": 4,
 "nbformat_minor": 5
}
